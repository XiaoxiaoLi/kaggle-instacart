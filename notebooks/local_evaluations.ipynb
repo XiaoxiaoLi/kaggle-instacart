{
 "cells": [
  {
   "cell_type": "markdown",
   "metadata": {},
   "source": [
    "# Local Evaluations\n",
    "\n",
    "Sources: https://www.kaggle.com/frankherfert/local-validation-with-detailed-product-comparison"
   ]
  },
  {
   "cell_type": "code",
   "execution_count": 3,
   "metadata": {
    "collapsed": true
   },
   "outputs": [],
   "source": [
    "import numpy as np\n",
    "import pandas as pd\n",
    "pd.set_option(\"display.max_colwidth\", 200) # use this to display more content for each column"
   ]
  },
  {
   "cell_type": "markdown",
   "metadata": {},
   "source": [
    "## Load the Data"
   ]
  },
  {
   "cell_type": "code",
   "execution_count": 4,
   "metadata": {
    "collapsed": false
   },
   "outputs": [
    {
     "name": "stdout",
     "output_type": "stream",
     "text": [
      "Total ordered products(prior): 32434489\n"
     ]
    },
    {
     "data": {
      "text/html": [
       "<div>\n",
       "<style>\n",
       "    .dataframe thead tr:only-child th {\n",
       "        text-align: right;\n",
       "    }\n",
       "\n",
       "    .dataframe thead th {\n",
       "        text-align: left;\n",
       "    }\n",
       "\n",
       "    .dataframe tbody tr th {\n",
       "        vertical-align: top;\n",
       "    }\n",
       "</style>\n",
       "<table border=\"1\" class=\"dataframe\">\n",
       "  <thead>\n",
       "    <tr style=\"text-align: right;\">\n",
       "      <th></th>\n",
       "      <th>order_id</th>\n",
       "      <th>product_id</th>\n",
       "      <th>add_to_cart_order</th>\n",
       "      <th>reordered</th>\n",
       "    </tr>\n",
       "  </thead>\n",
       "  <tbody>\n",
       "    <tr>\n",
       "      <th>0</th>\n",
       "      <td>2</td>\n",
       "      <td>33120</td>\n",
       "      <td>1</td>\n",
       "      <td>1</td>\n",
       "    </tr>\n",
       "    <tr>\n",
       "      <th>1</th>\n",
       "      <td>2</td>\n",
       "      <td>28985</td>\n",
       "      <td>2</td>\n",
       "      <td>1</td>\n",
       "    </tr>\n",
       "    <tr>\n",
       "      <th>2</th>\n",
       "      <td>2</td>\n",
       "      <td>9327</td>\n",
       "      <td>3</td>\n",
       "      <td>0</td>\n",
       "    </tr>\n",
       "    <tr>\n",
       "      <th>3</th>\n",
       "      <td>2</td>\n",
       "      <td>45918</td>\n",
       "      <td>4</td>\n",
       "      <td>1</td>\n",
       "    </tr>\n",
       "    <tr>\n",
       "      <th>4</th>\n",
       "      <td>2</td>\n",
       "      <td>30035</td>\n",
       "      <td>5</td>\n",
       "      <td>0</td>\n",
       "    </tr>\n",
       "  </tbody>\n",
       "</table>\n",
       "</div>"
      ],
      "text/plain": [
       "   order_id  product_id  add_to_cart_order  reordered\n",
       "0         2       33120                  1          1\n",
       "1         2       28985                  2          1\n",
       "2         2        9327                  3          0\n",
       "3         2       45918                  4          1\n",
       "4         2       30035                  5          0"
      ]
     },
     "execution_count": 4,
     "metadata": {},
     "output_type": "execute_result"
    }
   ],
   "source": [
    "#prior dataset\n",
    "op_prior = pd.read_csv('../input/order_products__prior.csv', engine='c', \n",
    "                       dtype={'order_id': np.int32, \n",
    "                              'product_id': np.int32, \n",
    "                              'add_to_cart_order': np.int16, \n",
    "                              'reordered': np.int8})\n",
    "\n",
    "print('Total ordered products(prior): {}'.format(op_prior.shape[0]))\n",
    "op_prior.head()"
   ]
  },
  {
   "cell_type": "code",
   "execution_count": 5,
   "metadata": {
    "collapsed": false
   },
   "outputs": [
    {
     "name": "stdout",
     "output_type": "stream",
     "text": [
      "Total ordered products(train): 1384617\n"
     ]
    },
    {
     "data": {
      "text/html": [
       "<div>\n",
       "<style>\n",
       "    .dataframe thead tr:only-child th {\n",
       "        text-align: right;\n",
       "    }\n",
       "\n",
       "    .dataframe thead th {\n",
       "        text-align: left;\n",
       "    }\n",
       "\n",
       "    .dataframe tbody tr th {\n",
       "        vertical-align: top;\n",
       "    }\n",
       "</style>\n",
       "<table border=\"1\" class=\"dataframe\">\n",
       "  <thead>\n",
       "    <tr style=\"text-align: right;\">\n",
       "      <th></th>\n",
       "      <th>order_id</th>\n",
       "      <th>product_id</th>\n",
       "      <th>add_to_cart_order</th>\n",
       "      <th>reordered</th>\n",
       "    </tr>\n",
       "  </thead>\n",
       "  <tbody>\n",
       "    <tr>\n",
       "      <th>0</th>\n",
       "      <td>1</td>\n",
       "      <td>49302</td>\n",
       "      <td>1</td>\n",
       "      <td>1</td>\n",
       "    </tr>\n",
       "    <tr>\n",
       "      <th>1</th>\n",
       "      <td>1</td>\n",
       "      <td>11109</td>\n",
       "      <td>2</td>\n",
       "      <td>1</td>\n",
       "    </tr>\n",
       "    <tr>\n",
       "      <th>2</th>\n",
       "      <td>1</td>\n",
       "      <td>10246</td>\n",
       "      <td>3</td>\n",
       "      <td>0</td>\n",
       "    </tr>\n",
       "    <tr>\n",
       "      <th>3</th>\n",
       "      <td>1</td>\n",
       "      <td>49683</td>\n",
       "      <td>4</td>\n",
       "      <td>0</td>\n",
       "    </tr>\n",
       "    <tr>\n",
       "      <th>4</th>\n",
       "      <td>1</td>\n",
       "      <td>43633</td>\n",
       "      <td>5</td>\n",
       "      <td>1</td>\n",
       "    </tr>\n",
       "  </tbody>\n",
       "</table>\n",
       "</div>"
      ],
      "text/plain": [
       "   order_id  product_id  add_to_cart_order  reordered\n",
       "0         1       49302                  1          1\n",
       "1         1       11109                  2          1\n",
       "2         1       10246                  3          0\n",
       "3         1       49683                  4          0\n",
       "4         1       43633                  5          1"
      ]
     },
     "execution_count": 5,
     "metadata": {},
     "output_type": "execute_result"
    }
   ],
   "source": [
    "# train\n",
    "op_train = pd.read_csv('../input/order_products__train.csv', engine='c', \n",
    "                       dtype={'order_id': np.int32, \n",
    "                              'product_id': np.int32, \n",
    "                              'add_to_cart_order': np.int16, \n",
    "                              'reordered': np.int8})\n",
    "\n",
    "print('Total ordered products(train): {}'.format(op_train.shape[0]))\n",
    "op_train.head()"
   ]
  },
  {
   "cell_type": "code",
   "execution_count": 6,
   "metadata": {
    "collapsed": false
   },
   "outputs": [
    {
     "name": "stdout",
     "output_type": "stream",
     "text": [
      "Total orders: 3421083\n",
      "<class 'pandas.core.frame.DataFrame'>\n",
      "RangeIndex: 3421083 entries, 0 to 3421082\n",
      "Data columns (total 7 columns):\n",
      "order_id                  int32\n",
      "user_id                   int32\n",
      "eval_set                  object\n",
      "order_number              int32\n",
      "order_dow                 int8\n",
      "order_hour_of_day         int8\n",
      "days_since_prior_order    float16\n",
      "dtypes: float16(1), int32(3), int8(2), object(1)\n",
      "memory usage: 78.3+ MB\n",
      "None\n"
     ]
    },
    {
     "data": {
      "text/html": [
       "<div>\n",
       "<style>\n",
       "    .dataframe thead tr:only-child th {\n",
       "        text-align: right;\n",
       "    }\n",
       "\n",
       "    .dataframe thead th {\n",
       "        text-align: left;\n",
       "    }\n",
       "\n",
       "    .dataframe tbody tr th {\n",
       "        vertical-align: top;\n",
       "    }\n",
       "</style>\n",
       "<table border=\"1\" class=\"dataframe\">\n",
       "  <thead>\n",
       "    <tr style=\"text-align: right;\">\n",
       "      <th></th>\n",
       "      <th>order_id</th>\n",
       "      <th>user_id</th>\n",
       "      <th>eval_set</th>\n",
       "      <th>order_number</th>\n",
       "      <th>order_dow</th>\n",
       "      <th>order_hour_of_day</th>\n",
       "      <th>days_since_prior_order</th>\n",
       "    </tr>\n",
       "  </thead>\n",
       "  <tbody>\n",
       "    <tr>\n",
       "      <th>0</th>\n",
       "      <td>2539329</td>\n",
       "      <td>1</td>\n",
       "      <td>prior</td>\n",
       "      <td>1</td>\n",
       "      <td>2</td>\n",
       "      <td>8</td>\n",
       "      <td>NaN</td>\n",
       "    </tr>\n",
       "    <tr>\n",
       "      <th>1</th>\n",
       "      <td>2398795</td>\n",
       "      <td>1</td>\n",
       "      <td>prior</td>\n",
       "      <td>2</td>\n",
       "      <td>3</td>\n",
       "      <td>7</td>\n",
       "      <td>15.0</td>\n",
       "    </tr>\n",
       "    <tr>\n",
       "      <th>2</th>\n",
       "      <td>473747</td>\n",
       "      <td>1</td>\n",
       "      <td>prior</td>\n",
       "      <td>3</td>\n",
       "      <td>3</td>\n",
       "      <td>12</td>\n",
       "      <td>21.0</td>\n",
       "    </tr>\n",
       "    <tr>\n",
       "      <th>3</th>\n",
       "      <td>2254736</td>\n",
       "      <td>1</td>\n",
       "      <td>prior</td>\n",
       "      <td>4</td>\n",
       "      <td>4</td>\n",
       "      <td>7</td>\n",
       "      <td>29.0</td>\n",
       "    </tr>\n",
       "    <tr>\n",
       "      <th>4</th>\n",
       "      <td>431534</td>\n",
       "      <td>1</td>\n",
       "      <td>prior</td>\n",
       "      <td>5</td>\n",
       "      <td>4</td>\n",
       "      <td>15</td>\n",
       "      <td>28.0</td>\n",
       "    </tr>\n",
       "  </tbody>\n",
       "</table>\n",
       "</div>"
      ],
      "text/plain": [
       "   order_id  user_id eval_set  order_number  order_dow  order_hour_of_day  \\\n",
       "0   2539329        1    prior             1          2                  8   \n",
       "1   2398795        1    prior             2          3                  7   \n",
       "2    473747        1    prior             3          3                 12   \n",
       "3   2254736        1    prior             4          4                  7   \n",
       "4    431534        1    prior             5          4                 15   \n",
       "\n",
       "   days_since_prior_order  \n",
       "0                     NaN  \n",
       "1                    15.0  \n",
       "2                    21.0  \n",
       "3                    29.0  \n",
       "4                    28.0  "
      ]
     },
     "execution_count": 6,
     "metadata": {},
     "output_type": "execute_result"
    }
   ],
   "source": [
    "# orders\n",
    "orders = pd.read_csv('../input/orders.csv', engine='c', dtype={'order_id': np.int32, \n",
    "                                                           'user_id': np.int32, \n",
    "                                                           'order_number': np.int32, \n",
    "                                                           'order_dow': np.int8, \n",
    "                                                           'order_hour_of_day': np.int8, \n",
    "                                                           'days_since_prior_order': np.float16})\n",
    "print('Total orders: {}'.format(orders.shape[0]))\n",
    "print(orders.info())\n",
    "orders.head()"
   ]
  },
  {
   "cell_type": "code",
   "execution_count": 7,
   "metadata": {
    "collapsed": false
   },
   "outputs": [
    {
     "name": "stdout",
     "output_type": "stream",
     "text": [
      "   order_id  product_id  add_to_cart_order  reordered  user_id eval_set  \\\n",
      "0         2       33120                  1          1   202279    prior   \n",
      "1         2       28985                  2          1   202279    prior   \n",
      "2         2        9327                  3          0   202279    prior   \n",
      "3         2       45918                  4          1   202279    prior   \n",
      "4         2       30035                  5          0   202279    prior   \n",
      "\n",
      "   order_number  order_dow  order_hour_of_day  days_since_prior_order  \n",
      "0             3          5                  9                     8.0  \n",
      "1             3          5                  9                     8.0  \n",
      "2             3          5                  9                     8.0  \n",
      "3             3          5                  9                     8.0  \n",
      "4             3          5                  9                     8.0  \n",
      "order_id                    int32\n",
      "product_id                  int32\n",
      "add_to_cart_order           int16\n",
      "reordered                    int8\n",
      "user_id                     int32\n",
      "eval_set                   object\n",
      "order_number                int32\n",
      "order_dow                    int8\n",
      "order_hour_of_day            int8\n",
      "days_since_prior_order    float16\n",
      "dtype: object\n"
     ]
    }
   ],
   "source": [
    "# combine order details for prior\n",
    "\n",
    "prior_order_details = pd.merge(op_prior, orders, on = 'order_id', how = 'left')\n",
    "print(prior_order_details.head())\n",
    "print(prior_order_details.dtypes)"
   ]
  },
  {
   "cell_type": "code",
   "execution_count": 20,
   "metadata": {
    "collapsed": false
   },
   "outputs": [],
   "source": [
    "def calculate_f1_score(row):\n",
    "    \"\"\"\n",
    "    pred: list of product ids\n",
    "    true: list of product ids\n",
    "    \"\"\"\n",
    "    pred = row['products_pred'].split()\n",
    "    true = row['products_true'].split()\n",
    "    \n",
    "    pred = set(pred)\n",
    "    true = set(true)\n",
    "    correct_predictions = pred.intersection(true)\n",
    "    try:\n",
    "        precision = len(correct_predictions)/len(pred)\n",
    "        recall = len(correct_predictions)/len(true)\n",
    "\n",
    "        f_score = 2*precision*recall/(precision + recall)\n",
    "        return f_score\n",
    "    except ZeroDivisionError:  \n",
    "        return 0\n",
    "    "
   ]
  },
  {
   "cell_type": "code",
   "execution_count": 128,
   "metadata": {
    "collapsed": false
   },
   "outputs": [],
   "source": [
    "turn_products_to_output_format = lambda x: ' '.join([str(int(e)) for e in set(x)]) if len(x) else 'None'"
   ]
  },
  {
   "cell_type": "code",
   "execution_count": 71,
   "metadata": {
    "collapsed": false,
    "scrolled": true
   },
   "outputs": [
    {
     "data": {
      "text/html": [
       "<div>\n",
       "<style>\n",
       "    .dataframe thead tr:only-child th {\n",
       "        text-align: right;\n",
       "    }\n",
       "\n",
       "    .dataframe thead th {\n",
       "        text-align: left;\n",
       "    }\n",
       "\n",
       "    .dataframe tbody tr th {\n",
       "        vertical-align: top;\n",
       "    }\n",
       "</style>\n",
       "<table border=\"1\" class=\"dataframe\">\n",
       "  <thead>\n",
       "    <tr style=\"text-align: right;\">\n",
       "      <th></th>\n",
       "      <th>order_id</th>\n",
       "      <th>products_true</th>\n",
       "    </tr>\n",
       "  </thead>\n",
       "  <tbody>\n",
       "    <tr>\n",
       "      <th>0</th>\n",
       "      <td>1</td>\n",
       "      <td>11109 10246 47209 43633 49683 22035 49302 13176</td>\n",
       "    </tr>\n",
       "    <tr>\n",
       "      <th>1</th>\n",
       "      <td>36</td>\n",
       "      <td>34497 46979 48679 19660 43086 49235 39612 46620</td>\n",
       "    </tr>\n",
       "    <tr>\n",
       "      <th>2</th>\n",
       "      <td>38</td>\n",
       "      <td>42625 23622 11913 28842 4461 39693 18159 21616 32433</td>\n",
       "    </tr>\n",
       "    <tr>\n",
       "      <th>3</th>\n",
       "      <td>96</td>\n",
       "      <td>40706 24489 25610 39275 30391 20574 27966</td>\n",
       "    </tr>\n",
       "    <tr>\n",
       "      <th>4</th>\n",
       "      <td>98</td>\n",
       "      <td>46720 24964 4357 43654 18441 36364 34065 19731 1939 45204 790 22935 40986 8859 9373 48287 37664 27683 7461 43560 9896 20520 3880 41387 30776 25659 27966 44479 18117 329 40396 46413 34126 45007 273...</td>\n",
       "    </tr>\n",
       "  </tbody>\n",
       "</table>\n",
       "</div>"
      ],
      "text/plain": [
       "   order_id  \\\n",
       "0         1   \n",
       "1        36   \n",
       "2        38   \n",
       "3        96   \n",
       "4        98   \n",
       "\n",
       "                                                                                                                                                                                             products_true  \n",
       "0                                                                                                                                                          11109 10246 47209 43633 49683 22035 49302 13176  \n",
       "1                                                                                                                                                          34497 46979 48679 19660 43086 49235 39612 46620  \n",
       "2                                                                                                                                                     42625 23622 11913 28842 4461 39693 18159 21616 32433  \n",
       "3                                                                                                                                                                40706 24489 25610 39275 30391 20574 27966  \n",
       "4  46720 24964 4357 43654 18441 36364 34065 19731 1939 45204 790 22935 40986 8859 9373 48287 37664 27683 7461 43560 9896 20520 3880 41387 30776 25659 27966 44479 18117 329 40396 46413 34126 45007 273...  "
      ]
     },
     "execution_count": 71,
     "metadata": {},
     "output_type": "execute_result"
    }
   ],
   "source": [
    "# transform the training set to the output format\n",
    "\n",
    "train = pd.DataFrame(op_train.groupby('order_id')[\"product_id\"].apply(turn_products_to_output_format))\\\n",
    "                    .reset_index().rename(columns={'product_id':'products_true'})\n",
    "\n",
    "train.head()"
   ]
  },
  {
   "cell_type": "code",
   "execution_count": 72,
   "metadata": {
    "collapsed": true
   },
   "outputs": [],
   "source": [
    "from sklearn.model_selection import train_test_split\n",
    "df_train, df_validate = train_test_split(train, test_size = 0.8, random_state=42)"
   ]
  },
  {
   "cell_type": "code",
   "execution_count": 73,
   "metadata": {
    "collapsed": false
   },
   "outputs": [
    {
     "data": {
      "text/html": [
       "<div>\n",
       "<style>\n",
       "    .dataframe thead tr:only-child th {\n",
       "        text-align: right;\n",
       "    }\n",
       "\n",
       "    .dataframe thead th {\n",
       "        text-align: left;\n",
       "    }\n",
       "\n",
       "    .dataframe tbody tr th {\n",
       "        vertical-align: top;\n",
       "    }\n",
       "</style>\n",
       "<table border=\"1\" class=\"dataframe\">\n",
       "  <thead>\n",
       "    <tr style=\"text-align: right;\">\n",
       "      <th></th>\n",
       "      <th>order_id</th>\n",
       "      <th>products_true</th>\n",
       "      <th>user_id</th>\n",
       "      <th>eval_set</th>\n",
       "      <th>order_number</th>\n",
       "      <th>order_dow</th>\n",
       "      <th>order_hour_of_day</th>\n",
       "      <th>days_since_prior_order</th>\n",
       "    </tr>\n",
       "  </thead>\n",
       "  <tbody>\n",
       "    <tr>\n",
       "      <th>0</th>\n",
       "      <td>3007878</td>\n",
       "      <td>3682 18531 9092 27845 1862 17862 41004 23565 23029 47766 19895 9366 21461 43999 8988 2078 4799</td>\n",
       "      <td>173665</td>\n",
       "      <td>train</td>\n",
       "      <td>23</td>\n",
       "      <td>5</td>\n",
       "      <td>18</td>\n",
       "      <td>4.0</td>\n",
       "    </tr>\n",
       "    <tr>\n",
       "      <th>1</th>\n",
       "      <td>1727889</td>\n",
       "      <td>42058 5450 9389 32047 21137 19348 11351 12218 927</td>\n",
       "      <td>62696</td>\n",
       "      <td>train</td>\n",
       "      <td>48</td>\n",
       "      <td>3</td>\n",
       "      <td>15</td>\n",
       "      <td>7.0</td>\n",
       "    </tr>\n",
       "    <tr>\n",
       "      <th>2</th>\n",
       "      <td>2829462</td>\n",
       "      <td>11777 23586 36835 49347 41349 18658 37959 13380 5449 21894 46990 39408 4853 22008 40826 47546 13339 16797 46654 12223</td>\n",
       "      <td>196050</td>\n",
       "      <td>train</td>\n",
       "      <td>4</td>\n",
       "      <td>0</td>\n",
       "      <td>8</td>\n",
       "      <td>30.0</td>\n",
       "    </tr>\n",
       "    <tr>\n",
       "      <th>3</th>\n",
       "      <td>3261021</td>\n",
       "      <td>10017 1090 23815 8138 41290 39180 39470 21903 49520 4920 8467 24852 47766 25272</td>\n",
       "      <td>42910</td>\n",
       "      <td>train</td>\n",
       "      <td>44</td>\n",
       "      <td>0</td>\n",
       "      <td>10</td>\n",
       "      <td>7.0</td>\n",
       "    </tr>\n",
       "    <tr>\n",
       "      <th>4</th>\n",
       "      <td>1711491</td>\n",
       "      <td>12409 37508 25194 5451 40749 38159 16978 31990 30391 39001 6459 11069</td>\n",
       "      <td>137671</td>\n",
       "      <td>train</td>\n",
       "      <td>10</td>\n",
       "      <td>3</td>\n",
       "      <td>16</td>\n",
       "      <td>30.0</td>\n",
       "    </tr>\n",
       "  </tbody>\n",
       "</table>\n",
       "</div>"
      ],
      "text/plain": [
       "   order_id  \\\n",
       "0   3007878   \n",
       "1   1727889   \n",
       "2   2829462   \n",
       "3   3261021   \n",
       "4   1711491   \n",
       "\n",
       "                                                                                                           products_true  \\\n",
       "0                         3682 18531 9092 27845 1862 17862 41004 23565 23029 47766 19895 9366 21461 43999 8988 2078 4799   \n",
       "1                                                                      42058 5450 9389 32047 21137 19348 11351 12218 927   \n",
       "2  11777 23586 36835 49347 41349 18658 37959 13380 5449 21894 46990 39408 4853 22008 40826 47546 13339 16797 46654 12223   \n",
       "3                                        10017 1090 23815 8138 41290 39180 39470 21903 49520 4920 8467 24852 47766 25272   \n",
       "4                                                  12409 37508 25194 5451 40749 38159 16978 31990 30391 39001 6459 11069   \n",
       "\n",
       "   user_id eval_set  order_number  order_dow  order_hour_of_day  \\\n",
       "0   173665    train            23          5                 18   \n",
       "1    62696    train            48          3                 15   \n",
       "2   196050    train             4          0                  8   \n",
       "3    42910    train            44          0                 10   \n",
       "4   137671    train            10          3                 16   \n",
       "\n",
       "   days_since_prior_order  \n",
       "0                     4.0  \n",
       "1                     7.0  \n",
       "2                    30.0  \n",
       "3                     7.0  \n",
       "4                    30.0  "
      ]
     },
     "execution_count": 73,
     "metadata": {},
     "output_type": "execute_result"
    }
   ],
   "source": [
    "validate_orders = pd.merge(df_validate, orders, on='order_id', how = 'left')\n",
    "validate_orders.head()"
   ]
  },
  {
   "cell_type": "markdown",
   "metadata": {},
   "source": [
    "## Do predictions"
   ]
  },
  {
   "cell_type": "markdown",
   "metadata": {},
   "source": [
    "### Take preordered products that are ever in the top X in add_to_cart_order"
   ]
  },
  {
   "cell_type": "markdown",
   "metadata": {},
   "source": [
    "## Take all reordered\n",
    "\n",
    "0.29960 LBS\n",
    "\n",
    "0.25063757503 local evaluation"
   ]
  },
  {
   "cell_type": "code",
   "execution_count": 101,
   "metadata": {
    "collapsed": false
   },
   "outputs": [
    {
     "name": "stdout",
     "output_type": "stream",
     "text": [
      "F1 Score 0.25063757503\n",
      "CPU times: user 21.3 s, sys: 1.47 s, total: 22.8 s\n",
      "Wall time: 23 s\n"
     ]
    }
   ],
   "source": [
    "%%time\n",
    "\n",
    "history = prior_order_details[(prior_order_details.user_id.isin(validate_orders.user_id))\n",
    "                             & (prior_order_details.reordered == 1)]\\\n",
    ".groupby('user_id')['product_id'].apply(turn_products_to_output_format).reset_index()\n",
    "history.columns = ['user_id', 'products_pred']\n",
    "\n",
    "result_df = pd.merge(left=history, \n",
    "                        right=validate_orders, \n",
    "                        how='right', \n",
    "                        on='user_id').fillna('None')[['order_id', 'products_pred','products_true']]\n",
    "\n",
    "print('F1 Score', np.average(result_df.apply(calculate_f1_score, axis=1, raw=True)))"
   ]
  },
  {
   "cell_type": "markdown",
   "metadata": {},
   "source": [
    "### Repeat last order, reordered products only\n",
    "0.3276826 LBS\n",
    "\n",
    "0.2474 local evaluation"
   ]
  },
  {
   "cell_type": "code",
   "execution_count": 113,
   "metadata": {
    "collapsed": false
   },
   "outputs": [
    {
     "name": "stdout",
     "output_type": "stream",
     "text": [
      "CPU times: user 6.7 s, sys: 2.97 s, total: 9.67 s\n",
      "Wall time: 9.78 s\n"
     ]
    }
   ],
   "source": [
    "%%time\n",
    "history = prior_order_details[(prior_order_details.user_id.isin(validate_orders.user_id))]\n",
    "# This is assuming that order number is ordered. The max number of the order_number is the last order.\n",
    "last_orders = history.groupby('user_id')['order_number'].max().reset_index()\n",
    "\n",
    "last_ordered_reordered_only = pd.merge(\n",
    "            left=pd.merge(\n",
    "                    left=last_orders,\n",
    "                    right=history[history.reordered == 1],\n",
    "                    how='left',\n",
    "                    on=['user_id', 'order_number']\n",
    "                )[['user_id', 'product_id']],\n",
    "            right=validate_orders[['user_id', 'order_id']],\n",
    "            how='left',\n",
    "            on='user_id'\n",
    "        )\n",
    "\n"
   ]
  },
  {
   "cell_type": "code",
   "execution_count": 114,
   "metadata": {
    "collapsed": false
   },
   "outputs": [
    {
     "data": {
      "text/html": [
       "<div>\n",
       "<style>\n",
       "    .dataframe thead tr:only-child th {\n",
       "        text-align: right;\n",
       "    }\n",
       "\n",
       "    .dataframe thead th {\n",
       "        text-align: left;\n",
       "    }\n",
       "\n",
       "    .dataframe tbody tr th {\n",
       "        vertical-align: top;\n",
       "    }\n",
       "</style>\n",
       "<table border=\"1\" class=\"dataframe\">\n",
       "  <thead>\n",
       "    <tr style=\"text-align: right;\">\n",
       "      <th></th>\n",
       "      <th>user_id</th>\n",
       "      <th>product_id</th>\n",
       "      <th>order_id</th>\n",
       "    </tr>\n",
       "  </thead>\n",
       "  <tbody>\n",
       "    <tr>\n",
       "      <th>0</th>\n",
       "      <td>1</td>\n",
       "      <td>196.0</td>\n",
       "      <td>1187899</td>\n",
       "    </tr>\n",
       "    <tr>\n",
       "      <th>1</th>\n",
       "      <td>1</td>\n",
       "      <td>46149.0</td>\n",
       "      <td>1187899</td>\n",
       "    </tr>\n",
       "    <tr>\n",
       "      <th>2</th>\n",
       "      <td>1</td>\n",
       "      <td>25133.0</td>\n",
       "      <td>1187899</td>\n",
       "    </tr>\n",
       "    <tr>\n",
       "      <th>3</th>\n",
       "      <td>1</td>\n",
       "      <td>10258.0</td>\n",
       "      <td>1187899</td>\n",
       "    </tr>\n",
       "    <tr>\n",
       "      <th>4</th>\n",
       "      <td>1</td>\n",
       "      <td>13032.0</td>\n",
       "      <td>1187899</td>\n",
       "    </tr>\n",
       "  </tbody>\n",
       "</table>\n",
       "</div>"
      ],
      "text/plain": [
       "   user_id  product_id  order_id\n",
       "0        1       196.0   1187899\n",
       "1        1     46149.0   1187899\n",
       "2        1     25133.0   1187899\n",
       "3        1     10258.0   1187899\n",
       "4        1     13032.0   1187899"
      ]
     },
     "execution_count": 114,
     "metadata": {},
     "output_type": "execute_result"
    }
   ],
   "source": [
    "last_ordered_reordered_only.head()"
   ]
  },
  {
   "cell_type": "code",
   "execution_count": 129,
   "metadata": {
    "collapsed": false
   },
   "outputs": [],
   "source": [
    "result_df = last_ordered_reordered_only.fillna(-1).groupby('order_id')['product_id'].apply(turn_products_to_output_format)\\\n",
    "                .reset_index().replace(to_replace='-1', value='None').rename(columns={'product_id':'products_pred'})\n",
    "    \n",
    "result_df = pd.merge(left = result_df, right = validate_orders[['order_id', 'products_true']], on='order_id').fillna('None')"
   ]
  },
  {
   "cell_type": "code",
   "execution_count": 130,
   "metadata": {
    "collapsed": false
   },
   "outputs": [
    {
     "data": {
      "text/html": [
       "<div>\n",
       "<style>\n",
       "    .dataframe thead tr:only-child th {\n",
       "        text-align: right;\n",
       "    }\n",
       "\n",
       "    .dataframe thead th {\n",
       "        text-align: left;\n",
       "    }\n",
       "\n",
       "    .dataframe tbody tr th {\n",
       "        vertical-align: top;\n",
       "    }\n",
       "</style>\n",
       "<table border=\"1\" class=\"dataframe\">\n",
       "  <thead>\n",
       "    <tr style=\"text-align: right;\">\n",
       "      <th></th>\n",
       "      <th>order_id</th>\n",
       "      <th>products_pred</th>\n",
       "      <th>products_true</th>\n",
       "    </tr>\n",
       "  </thead>\n",
       "  <tbody>\n",
       "    <tr>\n",
       "      <th>0</th>\n",
       "      <td>1</td>\n",
       "      <td>43633 30881 5707 14947</td>\n",
       "      <td>11109 10246 47209 43633 49683 22035 49302 13176</td>\n",
       "    </tr>\n",
       "    <tr>\n",
       "      <th>1</th>\n",
       "      <td>36</td>\n",
       "      <td>35939 24964 26629 581 44359 47734 16759</td>\n",
       "      <td>34497 46979 48679 19660 43086 49235 39612 46620</td>\n",
       "    </tr>\n",
       "    <tr>\n",
       "      <th>2</th>\n",
       "      <td>96</td>\n",
       "      <td>24489 27966</td>\n",
       "      <td>40706 24489 25610 39275 30391 20574 27966</td>\n",
       "    </tr>\n",
       "    <tr>\n",
       "      <th>3</th>\n",
       "      <td>98</td>\n",
       "      <td>4357 43654 34065 19731 1939 45204 33686 40986 8859 48287 37664 27683 43560 9896 28842 3880 22963 30776 27966 18117 5451 40396 42701 46413 15455 35042 47333 47209 46313 48745 35951 38383 47601 2750...</td>\n",
       "      <td>46720 24964 4357 43654 18441 36364 34065 19731 1939 45204 790 22935 40986 8859 9373 48287 37664 27683 7461 43560 9896 20520 3880 41387 30776 25659 27966 44479 18117 329 40396 46413 34126 45007 273...</td>\n",
       "    </tr>\n",
       "    <tr>\n",
       "      <th>4</th>\n",
       "      <td>170</td>\n",
       "      <td>13176 25748 18394 6236 37766</td>\n",
       "      <td>43841 40354 17794 43772 37766 49593 11182 21137 5077 34582 25591 13176 8153 18394 15093 6236 39190</td>\n",
       "    </tr>\n",
       "  </tbody>\n",
       "</table>\n",
       "</div>"
      ],
      "text/plain": [
       "   order_id  \\\n",
       "0         1   \n",
       "1        36   \n",
       "2        96   \n",
       "3        98   \n",
       "4       170   \n",
       "\n",
       "                                                                                                                                                                                             products_pred  \\\n",
       "0                                                                                                                                                                                   43633 30881 5707 14947   \n",
       "1                                                                                                                                                                  35939 24964 26629 581 44359 47734 16759   \n",
       "2                                                                                                                                                                                              24489 27966   \n",
       "3  4357 43654 34065 19731 1939 45204 33686 40986 8859 48287 37664 27683 43560 9896 28842 3880 22963 30776 27966 18117 5451 40396 42701 46413 15455 35042 47333 47209 46313 48745 35951 38383 47601 2750...   \n",
       "4                                                                                                                                                                             13176 25748 18394 6236 37766   \n",
       "\n",
       "                                                                                                                                                                                             products_true  \n",
       "0                                                                                                                                                          11109 10246 47209 43633 49683 22035 49302 13176  \n",
       "1                                                                                                                                                          34497 46979 48679 19660 43086 49235 39612 46620  \n",
       "2                                                                                                                                                                40706 24489 25610 39275 30391 20574 27966  \n",
       "3  46720 24964 4357 43654 18441 36364 34065 19731 1939 45204 790 22935 40986 8859 9373 48287 37664 27683 7461 43560 9896 20520 3880 41387 30776 25659 27966 44479 18117 329 40396 46413 34126 45007 273...  \n",
       "4                                                                                                       43841 40354 17794 43772 37766 49593 11182 21137 5077 34582 25591 13176 8153 18394 15093 6236 39190  "
      ]
     },
     "execution_count": 130,
     "metadata": {},
     "output_type": "execute_result"
    }
   ],
   "source": [
    "result_df.head()"
   ]
  },
  {
   "cell_type": "code",
   "execution_count": 131,
   "metadata": {
    "collapsed": false
   },
   "outputs": [
    {
     "name": "stdout",
     "output_type": "stream",
     "text": [
      "F1 Score 0.247469417288\n"
     ]
    }
   ],
   "source": [
    "print('F1 Score', np.average(result_df.apply(calculate_f1_score, axis=1, raw=True)))"
   ]
  }
 ],
 "metadata": {
  "anaconda-cloud": {},
  "kernelspec": {
   "display_name": "Python [conda env:kaggle-instacart]",
   "language": "python",
   "name": "conda-env-kaggle-instacart-py"
  },
  "language_info": {
   "codemirror_mode": {
    "name": "ipython",
    "version": 3
   },
   "file_extension": ".py",
   "mimetype": "text/x-python",
   "name": "python",
   "nbconvert_exporter": "python",
   "pygments_lexer": "ipython3",
   "version": "3.5.3"
  }
 },
 "nbformat": 4,
 "nbformat_minor": 1
}
